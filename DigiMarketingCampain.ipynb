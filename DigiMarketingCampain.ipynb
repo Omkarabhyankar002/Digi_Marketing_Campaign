{
 "cells": [
  {
   "cell_type": "code",
   "execution_count": 11,
   "id": "7e016049-137c-4fef-a435-c870e58dd2cf",
   "metadata": {},
   "outputs": [],
   "source": [
    "## Fetch Data from CSV file\n",
    "import pandas as pd\n",
    "import matplotlib.pyplot as plt\n",
    "data = pd.read_csv(r'C:\\Users\\hp\\cda\\portfolio projects\\Digital Marketing Campaign Project\\DigiMarketing Project.csv')\n"
   ]
  },
  {
   "cell_type": "code",
   "execution_count": 5,
   "id": "ba574434-4f26-4d8c-b4a0-fce7ff826462",
   "metadata": {},
   "outputs": [
    {
     "name": "stdout",
     "output_type": "stream",
     "text": [
      "   Campaign_ID       Campaign_Name    Platform  Start_Date    End_Date  \\\n",
      "0          301         Summer Sale  Google Ads  01-06-2024  30-06-2024   \n",
      "1          302    Winter Clearance    Facebook  01-11-2024  30-11-2024   \n",
      "2          303    Spring Promotion   Instagram  01-03-2024  31-03-2024   \n",
      "3          304  Black Friday Deals     Twitter  20-11-2024  26-11-2024   \n",
      "4          305   New Year Campaign    LinkedIn  01-01-2024  31-01-2024   \n",
      "\n",
      "   Impressions  Clicks  Conversions  Ad_Spend ($)  Revenue ($)  CTR (%)  \\\n",
      "0        50000    3000          150          1500         6000     6.00   \n",
      "1        70000    4000          250          2000         8000     5.71   \n",
      "2        60000    2500          100          1200         3000     4.17   \n",
      "3        80000    5000          400          2500        10000     6.25   \n",
      "4        40000    1500           75          1000         2500     3.75   \n",
      "\n",
      "   CPC ($)  ROAS  Engagement_Score Audience_Segment  \n",
      "0     0.50   4.0                75     Young Adults  \n",
      "1     0.50   4.0                80      Middle-Aged  \n",
      "2     0.48   2.5                70     Young Adults  \n",
      "3     0.50   4.0                90         All Ages  \n",
      "4     0.67   2.5                65    Professionals  \n"
     ]
    }
   ],
   "source": [
    "print(data.head())"
   ]
  },
  {
   "cell_type": "code",
   "execution_count": 6,
   "id": "cf1bf6f3-341c-4e29-96c7-2d5ddd64266f",
   "metadata": {
    "scrolled": true
   },
   "outputs": [
    {
     "name": "stdout",
     "output_type": "stream",
     "text": [
      "   Campaign_ID       Campaign_Name    Platform  Start_Date    End_Date  \\\n",
      "0          301         Summer Sale  Google Ads  01-06-2024  30-06-2024   \n",
      "1          302    Winter Clearance    Facebook  01-11-2024  30-11-2024   \n",
      "2          303    Spring Promotion   Instagram  01-03-2024  31-03-2024   \n",
      "3          304  Black Friday Deals     Twitter  20-11-2024  26-11-2024   \n",
      "4          305   New Year Campaign    LinkedIn  01-01-2024  31-01-2024   \n",
      "\n",
      "   Impressions  Clicks  Conversions  Ad_Spend ($)  Revenue ($)  CTR (%)  \\\n",
      "0        50000    3000          150          1500         6000     6.00   \n",
      "1        70000    4000          250          2000         8000     5.71   \n",
      "2        60000    2500          100          1200         3000     4.17   \n",
      "3        80000    5000          400          2500        10000     6.25   \n",
      "4        40000    1500           75          1000         2500     3.75   \n",
      "\n",
      "   CPC ($)  ROAS  Engagement_Score Audience_Segment  \n",
      "0     0.50   4.0                75     Young Adults  \n",
      "1     0.50   4.0                80      Middle-Aged  \n",
      "2     0.48   2.5                70     Young Adults  \n",
      "3     0.50   4.0                90         All Ages  \n",
      "4     0.67   2.5                65    Professionals  \n"
     ]
    }
   ],
   "source": [
    "print(data.tail())"
   ]
  },
  {
   "cell_type": "code",
   "execution_count": 2,
   "id": "81f496f5-bbb6-49d5-b405-45a8e7c7a47c",
   "metadata": {},
   "outputs": [
    {
     "name": "stdout",
     "output_type": "stream",
     "text": [
      "Requirement already satisfied: pandas in c:\\users\\hp\\anaconda3\\lib\\site-packages (2.1.4)\n",
      "Requirement already satisfied: sqlalchemy in c:\\users\\hp\\anaconda3\\lib\\site-packages (2.0.25)\n",
      "Requirement already satisfied: mysql-connector-python in c:\\users\\hp\\anaconda3\\lib\\site-packages (9.0.0)\n",
      "Requirement already satisfied: numpy<2,>=1.23.2 in c:\\users\\hp\\anaconda3\\lib\\site-packages (from pandas) (1.26.4)\n",
      "Requirement already satisfied: python-dateutil>=2.8.2 in c:\\users\\hp\\anaconda3\\lib\\site-packages (from pandas) (2.8.2)\n",
      "Requirement already satisfied: pytz>=2020.1 in c:\\users\\hp\\anaconda3\\lib\\site-packages (from pandas) (2023.3.post1)\n",
      "Requirement already satisfied: tzdata>=2022.1 in c:\\users\\hp\\anaconda3\\lib\\site-packages (from pandas) (2023.3)\n",
      "Requirement already satisfied: typing-extensions>=4.6.0 in c:\\users\\hp\\anaconda3\\lib\\site-packages (from sqlalchemy) (4.9.0)\n",
      "Requirement already satisfied: greenlet!=0.4.17 in c:\\users\\hp\\anaconda3\\lib\\site-packages (from sqlalchemy) (3.0.1)\n",
      "Requirement already satisfied: six>=1.5 in c:\\users\\hp\\anaconda3\\lib\\site-packages (from python-dateutil>=2.8.2->pandas) (1.16.0)\n"
     ]
    }
   ],
   "source": [
    "## Install required libraries to connect with MySQL \n",
    "!pip install pandas sqlalchemy mysql-connector-python"
   ]
  },
  {
   "cell_type": "code",
   "execution_count": 12,
   "id": "da749376-990c-4789-b3b6-54b05de4290c",
   "metadata": {},
   "outputs": [],
   "source": [
    "import pandas as pd\n",
    "from sqlalchemy import create_engine"
   ]
  },
  {
   "cell_type": "code",
   "execution_count": 14,
   "id": "7e716f37-d7ca-415a-9f44-621362afd2ec",
   "metadata": {},
   "outputs": [],
   "source": [
    "# Define your MySQL connection parameters\n",
    "username = 'root'\n",
    "password = 'Aadi2006'\n",
    "host = 'localhost:3306'  \n",
    "database = 'DigiMarketing'"
   ]
  },
  {
   "cell_type": "code",
   "execution_count": 15,
   "id": "797f432a-57dd-47b5-b49a-35c4daf7b1eb",
   "metadata": {},
   "outputs": [],
   "source": [
    "# Create a SQLAlchemy engine\n",
    "engine = create_engine(f'mysql+mysqlconnector://{username}:{password}@{host}/{database}')"
   ]
  },
  {
   "cell_type": "code",
   "execution_count": 15,
   "id": "f0be6819-64a4-4cc7-99ca-8a42434a82c3",
   "metadata": {},
   "outputs": [],
   "source": [
    "data.rename(columns={\n",
    "    \"Ad_Spend ($)\": \"Ad_Spend\",\n",
    "    # Rename other columns as needed\n",
    "}, inplace=True)"
   ]
  },
  {
   "cell_type": "code",
   "execution_count": 17,
   "id": "d21bebe1-43d7-4ee3-86a2-0d388078e444",
   "metadata": {},
   "outputs": [],
   "source": [
    "data.rename(columns={\n",
    "    \"Ad_Spend ($)\": \"Ad_Spend\",\n",
    "    # Rename other columns as needed\n",
    "}, inplace=True)"
   ]
  },
  {
   "cell_type": "code",
   "execution_count": 18,
   "id": "91e52b8e-fb2c-4227-8911-4f91d961fb08",
   "metadata": {},
   "outputs": [],
   "source": [
    "data.rename(columns={\n",
    "    \"CTR (%)\": \"CTR\",\n",
    "    # Rename other columns as needed\n",
    "}, inplace=True)"
   ]
  },
  {
   "cell_type": "code",
   "execution_count": 19,
   "id": "4eacaebb-4dbb-4759-b182-9e86b279eff8",
   "metadata": {},
   "outputs": [],
   "source": [
    "data.rename(columns={\n",
    "    \"CPC ($)\": \"CPC\",\n",
    "    # Rename other columns as needed\n",
    "}, inplace=True)"
   ]
  },
  {
   "cell_type": "code",
   "execution_count": 21,
   "id": "92fea432-20d6-4a33-9807-401b5ad29161",
   "metadata": {},
   "outputs": [],
   "source": [
    "# Assuming 'data' is your DataFrame\n",
    "data['Start_Date'] = pd.to_datetime(data['Start_Date'], format='%d-%m-%Y').dt.strftime('%Y-%m-%d')\n",
    "data['End_Date'] = pd.to_datetime(data['End_Date'], format='%d-%m-%Y').dt.strftime('%Y-%m-%d')"
   ]
  },
  {
   "cell_type": "code",
   "execution_count": 22,
   "id": "006dee62-ce5f-4a5d-bd57-6fcdfa4c02db",
   "metadata": {},
   "outputs": [
    {
     "name": "stdout",
     "output_type": "stream",
     "text": [
      "Campaign_ID           int64\n",
      "Campaign_Name        object\n",
      "Platform             object\n",
      "Start_Date           object\n",
      "End_Date             object\n",
      "Impressions           int64\n",
      "Clicks                int64\n",
      "Conversions           int64\n",
      "Ad_Spend              int64\n",
      "Revenue               int64\n",
      "CTR                 float64\n",
      "CPC                 float64\n",
      "ROAS                float64\n",
      "Engagement_Score      int64\n",
      "Audience_Segment     object\n",
      "dtype: object\n"
     ]
    }
   ],
   "source": [
    "print(data.dtypes)"
   ]
  },
  {
   "cell_type": "code",
   "execution_count": 4,
   "id": "e39e3c21-90db-4dd4-81f2-26f2511aeb6d",
   "metadata": {},
   "outputs": [],
   "source": [
    "# Remove duplicates\n",
    "data.drop_duplicates(inplace=True)"
   ]
  },
  {
   "cell_type": "code",
   "execution_count": 6,
   "id": "a396202c-b62c-44aa-91e5-9ba7d6fdc2a3",
   "metadata": {},
   "outputs": [],
   "source": [
    "# Fill missing values\n",
    "data.fillna(0, inplace=True)"
   ]
  },
  {
   "cell_type": "code",
   "execution_count": 7,
   "id": "15748c5b-cc87-40c0-a1a3-5cd7259b72fb",
   "metadata": {},
   "outputs": [
    {
     "name": "stdout",
     "output_type": "stream",
     "text": [
      "   Campaign_ID       Campaign_Name    Platform  Start_Date    End_Date  \\\n",
      "0          301         Summer Sale  Google Ads  01-06-2024  30-06-2024   \n",
      "1          302    Winter Clearance    Facebook  01-11-2024  30-11-2024   \n",
      "2          303    Spring Promotion   Instagram  01-03-2024  31-03-2024   \n",
      "3          304  Black Friday Deals     Twitter  20-11-2024  26-11-2024   \n",
      "4          305   New Year Campaign    LinkedIn  01-01-2024  31-01-2024   \n",
      "\n",
      "   Impressions  Clicks  Conversions  Ad_Spend ($)  Revenue ($)  CTR (%)  \\\n",
      "0        50000    3000          150          1500         6000     6.00   \n",
      "1        70000    4000          250          2000         8000     5.71   \n",
      "2        60000    2500          100          1200         3000     4.17   \n",
      "3        80000    5000          400          2500        10000     6.25   \n",
      "4        40000    1500           75          1000         2500     3.75   \n",
      "\n",
      "   CPC ($)  ROAS  Engagement_Score Audience_Segment  \n",
      "0     0.50   4.0                75     Young Adults  \n",
      "1     0.50   4.0                80      Middle-Aged  \n",
      "2     0.48   2.5                70     Young Adults  \n",
      "3     0.50   4.0                90         All Ages  \n",
      "4     0.67   2.5                65    Professionals  \n"
     ]
    }
   ],
   "source": [
    "print(data)"
   ]
  },
  {
   "cell_type": "code",
   "execution_count": 26,
   "id": "f5120353-12ba-4da6-9cac-89f9f42082a7",
   "metadata": {},
   "outputs": [
    {
     "data": {
      "text/plain": [
       "5"
      ]
     },
     "execution_count": 26,
     "metadata": {},
     "output_type": "execute_result"
    }
   ],
   "source": [
    "# Load the DataFrame into the MySQL table\n",
    "data.to_sql('digital_marketing_campaigns', con=engine, index=False, if_exists='replace')"
   ]
  },
  {
   "cell_type": "code",
   "execution_count": 28,
   "id": "3e9e1f73-0209-4fd0-aa3a-96c912a81764",
   "metadata": {},
   "outputs": [],
   "source": [
    "# Load data back from SQL for analysis\n",
    "df = pd.read_sql('SELECT * FROM digital_marketing_campaigns', con=engine)"
   ]
  },
  {
   "cell_type": "code",
   "execution_count": 29,
   "id": "ebc9833d-982c-4acd-94a4-02ace536291c",
   "metadata": {},
   "outputs": [
    {
     "name": "stdout",
     "output_type": "stream",
     "text": [
      "       Campaign_ID   Impressions       Clicks  Conversions     Ad_Spend  \\\n",
      "count     5.000000      5.000000     5.000000      5.00000     5.000000   \n",
      "mean    303.000000  60000.000000  3200.000000    195.00000  1640.000000   \n",
      "std       1.581139  15811.388301  1350.925609    132.75918   610.737259   \n",
      "min     301.000000  40000.000000  1500.000000     75.00000  1000.000000   \n",
      "25%     302.000000  50000.000000  2500.000000    100.00000  1200.000000   \n",
      "50%     303.000000  60000.000000  3000.000000    150.00000  1500.000000   \n",
      "75%     304.000000  70000.000000  4000.000000    250.00000  2000.000000   \n",
      "max     305.000000  80000.000000  5000.000000    400.00000  2500.000000   \n",
      "\n",
      "            Revenue       CTR      CPC      ROAS  Engagement_Score  \n",
      "count      5.000000  5.000000  5.00000  5.000000          5.000000  \n",
      "mean    5900.000000  5.176000  0.53000  3.400000         76.000000  \n",
      "std     3209.361307  1.136125  0.07874  0.821584          9.617692  \n",
      "min     2500.000000  3.750000  0.48000  2.500000         65.000000  \n",
      "25%     3000.000000  4.170000  0.50000  2.500000         70.000000  \n",
      "50%     6000.000000  5.710000  0.50000  4.000000         75.000000  \n",
      "75%     8000.000000  6.000000  0.50000  4.000000         80.000000  \n",
      "max    10000.000000  6.250000  0.67000  4.000000         90.000000  \n"
     ]
    }
   ],
   "source": [
    "# Show Data\n",
    "print(df.describe())"
   ]
  },
  {
   "cell_type": "code",
   "execution_count": 30,
   "id": "c995cc57-4d3a-4782-be9b-4bd36b235108",
   "metadata": {},
   "outputs": [
    {
     "data": {
      "text/plain": [
       "<Axes: xlabel='Campaign_Name'>"
      ]
     },
     "execution_count": 30,
     "metadata": {},
     "output_type": "execute_result"
    },
    {
     "data": {
      "image/png": "[encoded data removed]",
      "text/plain": [
       "<Figure size 640x480 with 1 Axes>"
      ]
     },
     "metadata": {},
     "output_type": "display_data"
    }
   ],
   "source": [
    "df.groupby('Campaign_Name')['Ad_Spend'].sum().plot(kind='bar')"
   ]
  },
  {
   "cell_type": "code",
   "execution_count": 16,
   "id": "d0214e18-ed94-4f9c-8ca0-690ccb4ca7cd",
   "metadata": {},
   "outputs": [],
   "source": [
    "# Analysis and cleaning done data nee to same \n",
    "\n",
    "data.to_sql('analysis_results', con=engine, if_exists='replace', index=False)\n",
    "# Or save to CSV\n",
    "data.to_csv('results.csv', index=False)"
   ]
  },
  {
   "cell_type": "code",
   "execution_count": null,
   "id": "e672a8e6-b1db-4824-a1e5-da311ac7f8ed",
   "metadata": {},
   "outputs": [],
   "source": []
  }
 ],
 "metadata": {
  "kernelspec": {
   "display_name": "Python 3 (ipykernel)",
   "language": "python",
   "name": "python3"
  },
  "language_info": {
   "codemirror_mode": {
    "name": "ipython",
    "version": 3
   },
   "file_extension": ".py",
   "mimetype": "text/x-python",
   "name": "python",
   "nbconvert_exporter": "python",
   "pygments_lexer": "ipython3",
   "version": "3.11.7"
  }
 },
 "nbformat": 4,
 "nbformat_minor": 5
}
